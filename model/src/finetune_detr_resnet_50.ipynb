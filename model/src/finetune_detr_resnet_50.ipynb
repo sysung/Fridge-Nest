{
 "cells": [
  {
   "cell_type": "markdown",
   "metadata": {},
   "source": [
    "## Training with COCO datasets\n",
    "This section explores fine-tuning DETR Resnet 50 using a few labeled data"
   ]
  },
  {
   "cell_type": "markdown",
   "metadata": {},
   "source": [
    "### Preprocess COCO datsaet\n",
    "The COCO dataset is not split in train and validation, so the following cell splits it into train and validation?"
   ]
  },
  {
   "cell_type": "code",
   "execution_count": null,
   "metadata": {},
   "outputs": [],
   "source": []
  },
  {
   "cell_type": "markdown",
   "metadata": {},
   "source": [
    "## Weak Supervision\n",
    "\n",
    "This section explores fine-tuning of DETR Resnet 50 using [weak supervision](https://en.wikipedia.org/wiki/Weak_supervision) where a model is trained labels instead of bounding boxes."
   ]
  },
  {
   "cell_type": "code",
   "execution_count": null,
   "metadata": {},
   "outputs": [],
   "source": []
  }
 ],
 "metadata": {
  "language_info": {
   "name": "python"
  }
 },
 "nbformat": 4,
 "nbformat_minor": 2
}
